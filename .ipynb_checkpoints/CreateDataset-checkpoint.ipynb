{
 "cells": [
  {
   "cell_type": "code",
   "execution_count": 1,
   "metadata": {},
   "outputs": [],
   "source": [
    "import cv2\n",
    "import numpy as np\n",
    "import matplotlib.pyplot as plt"
   ]
  },
  {
   "cell_type": "markdown",
   "metadata": {},
   "source": [
    "#### Write a Python Script that captures images from your webcam video stream\n",
    "#### Extracts all Faces from the image frame (using haarcascades)\n",
    "#### Stores the Face information into numpy arrays\n",
    "\n",
    "    1. Read and show video stream, capture images\n",
    "    2. Detect Faces and show bounding box (haarcascade)\n",
    "    3. Flatten the largest face image(gray scale) and save in a numpy array\n",
    "    4. Repeat the above for multiple people to generate training data"
   ]
  },
  {
   "cell_type": "markdown",
   "metadata": {},
   "source": [
    "# Integration of Web Cam"
   ]
  },
  {
   "cell_type": "code",
   "execution_count": 2,
   "metadata": {},
   "outputs": [],
   "source": [
    "cam = cv2.VideoCapture(0)\n",
    "# 0 means web cam number, 0 for defualt\n",
    "\n",
    "face_cascade = cv2.CascadeClassifier('haarcascade_frontalface_alt.xml')"
   ]
  },
  {
   "cell_type": "code",
   "execution_count": 4,
   "metadata": {},
   "outputs": [],
   "source": [
    "frame = [] # to store frame at a time\n",
    "\n",
    "while True:\n",
    "    ret, frame = cam.read()\n",
    "    '''returns a boolean and frame, \n",
    "                                ret has that boolean that \n",
    "                                if frame is captured successfully'''\n",
    "    \n",
    "    if ret == False:\n",
    "        print(\"error\")\n",
    "        continue\n",
    "        \n",
    "    gray_frame = cv2.cvtColor(frame,cv2.COLOR_BGR2GRAY) #openCV read as BGR not RGB\n",
    "    face = face_cascade.detectMultiScale(gray_frame) # return x, y, weigth, heigth\n",
    "    \n",
    "    \n",
    "    for (x,y,w,h) in face:\n",
    "        cv2.rectangle(frame,(x,y),(x+w,y+h),(255,255,255),2)\n",
    "        # draw rectangle around each frame\n",
    "        \n",
    "    \n",
    "    cv2.imshow(\"image\", frame)\n",
    "    \n",
    "    if cv2.waitKey(1) & 0xFF == ord('q'):\n",
    "        cam.release()\n",
    "        cv2.destroyAllWindows()\n",
    "        break"
   ]
  },
  {
   "cell_type": "code",
   "execution_count": null,
   "metadata": {},
   "outputs": [],
   "source": []
  },
  {
   "cell_type": "code",
   "execution_count": null,
   "metadata": {},
   "outputs": [],
   "source": [
    "`"
   ]
  }
 ],
 "metadata": {
  "kernelspec": {
   "display_name": "Python 3",
   "language": "python",
   "name": "python3"
  }
 },
 "nbformat": 4,
 "nbformat_minor": 2
}
