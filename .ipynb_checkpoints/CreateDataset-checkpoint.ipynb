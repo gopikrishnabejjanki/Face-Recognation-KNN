{
 "cells": [
  {
   "cell_type": "code",
   "execution_count": 1,
   "metadata": {},
   "outputs": [],
   "source": [
    "import cv2\n",
    "import numpy as np\n",
    "import matplotlib.pyplot as plt"
   ]
  },
  {
   "cell_type": "markdown",
   "metadata": {},
   "source": [
    "#### Write a Python Script that captures images from your webcam video stream\n",
    "#### Extracts all Faces from the image frame (using haarcascades)\n",
    "#### Stores the Face information into numpy arrays\n",
    "\n",
    "    1. Read and show video stream, capture images\n",
    "    2. Detect Faces and show bounding box (haarcascade)\n",
    "    3. Flatten the largest face image(gray scale) and save in a numpy array\n",
    "    4. Repeat the above for multiple people to generate training data"
   ]
  },
  {
   "cell_type": "markdown",
   "metadata": {},
   "source": [
    "# Integration of Web Cam"
   ]
  },
  {
   "cell_type": "code",
   "execution_count": 2,
   "metadata": {},
   "outputs": [],
   "source": [
    "cam = cv2.VideoCapture(0)\n",
    "# 0 means web cam number, 0 for defualt\n",
    "\n",
    "face_cascade = cv2.CascadeClassifier('haarcascade_frontalface_alt.xml')"
   ]
  },
  {
   "cell_type": "code",
   "execution_count": 3,
   "metadata": {},
   "outputs": [
    {
     "name": "stdout",
     "output_type": "stream",
     "text": [
      "Enter the name of the person : mummy\n"
     ]
    }
   ],
   "source": [
    "skip = 0\n",
    "face_data = []\n",
    "dataset_path = './data/'\n",
    "offset = 10\n",
    "\n",
    "file_name = input(\"Enter the name of the person : \")"
   ]
  },
  {
   "cell_type": "code",
   "execution_count": 4,
   "metadata": {
    "collapsed": true
   },
   "outputs": [
    {
     "name": "stdout",
     "output_type": "stream",
     "text": [
      "[ 49 276  51  51]\n",
      "1\n",
      "[293 117 192 192]\n",
      "[299 123 207 207]\n",
      "[303 167 193 193]\n",
      "[301 179 187 187]\n",
      "[288 192 195 195]\n",
      "[290 203 186 186]\n",
      "2\n",
      "[279 188 200 200]\n",
      "[282 190 185 185]\n",
      "[277 188 189 189]\n",
      "[271 189 196 196]\n",
      "[272 190 196 196]\n",
      "3\n",
      "[265 194 189 189]\n",
      "[258 191 193 193]\n",
      "[257 189 181 181]\n",
      "[253 185 186 186]\n",
      "[253 179 183 183]\n",
      "4\n",
      "[250 172 193 193]\n",
      "[251 168 192 192]\n",
      "[257 168 192 192]\n",
      "[260 169 195 195]\n",
      "[268 170 202 202]\n",
      "5\n",
      "[272 173 203 203]\n",
      "[282 180 196 196]\n",
      "[284 173 198 198]\n",
      "[289 167 192 192]\n",
      "[292 170 187 187]\n",
      "6\n",
      "[281 162 182 182]\n",
      "[247 152 179 179]\n",
      "[227 151 173 173]\n",
      "[192 144 184 184]\n",
      "[174 133 201 201]\n",
      "7\n",
      "[182 141 214 214]\n",
      "[204 143 200 200]\n",
      "[231 147 197 197]\n",
      "[244 152 190 190]\n",
      "[257 158 195 195]\n",
      "8\n",
      "[256 173 197 197]\n",
      "[244 174 197 197]\n",
      "[220 162 189 189]\n",
      "[197 162 185 185]\n",
      "[195 162 188 188]\n",
      "9\n",
      "[217 151 197 197]\n",
      "[263 152 191 191]\n",
      "[260 138 179 179]\n",
      "[255 140 174 174]\n",
      "[243 129 176 176]\n",
      "10\n",
      "[225 115 192 192]\n",
      "[275 137 207 207]\n",
      "[353 156 194 194]\n",
      "[438 166 184 184]\n",
      "[481 178 157 157]\n",
      "11\n",
      "[452 188 171 171]\n",
      "[392 175 174 174]\n",
      "[304 178 165 165]\n",
      "[243 193 162 162]\n",
      "[201 187 168 168]\n",
      "12\n",
      "[183 193 164 164]\n",
      "[214 202 164 164]\n",
      "[238 220 160 160]\n",
      "[260 231 164 164]\n",
      "[267 229 161 161]\n",
      "13\n",
      "[264 226 160 160]\n",
      "[260 223 161 161]\n",
      "[258 223 161 161]\n",
      "[254 217 166 166]\n",
      "[253 224 161 161]\n",
      "14\n",
      "[251 232 157 157]\n",
      "[240 234 166 166]\n",
      "[237 247 166 166]\n",
      "[230 252 171 171]\n",
      "[228 256 165 165]\n",
      "15\n",
      "[231 255 158 158]\n",
      "[228 249 160 160]\n",
      "[229 248 160 160]\n",
      "[229 250 159 159]\n",
      "[232 247 159 159]\n",
      "16\n",
      "[238 242 165 165]\n",
      "[248 234 170 170]\n",
      "[256 235 171 171]\n",
      "[269 227 171 171]\n",
      "[279 216 176 176]\n",
      "17\n",
      "[292 200 176 176]\n",
      "[299 191 171 171]\n",
      "[306 181 166 166]\n",
      "[311 176 162 162]\n",
      "[322 174 165 165]\n",
      "18\n",
      "[331 179 162 162]\n",
      "[341 179 162 162]\n",
      "[344 174 170 170]\n",
      "[352 175 168 168]\n",
      "[347 174 173 173]\n",
      "19\n",
      "[352 174 169 169]\n",
      "[349 174 175 175]\n",
      "[348 172 173 173]\n",
      "[346 171 176 176]\n",
      "[339 173 181 181]\n",
      "20\n",
      "[326 177 180 180]\n",
      "[312 181 182 182]\n",
      "[274 181 196 196]\n",
      "[236 190 204 204]\n",
      "[184 131 103 103]\n",
      "[190 138  94  94]\n",
      "[193 140  91  91]\n",
      "[188 134 102 102]\n",
      "[195 142  90  90]\n",
      "[188 134 102 102]\n",
      "21\n",
      "[269 212 184 184]\n",
      "[288 212 188 188]\n",
      "[306 210 188 188]\n",
      "[332 207 192 192]\n",
      "[354 206 192 192]\n",
      "22\n",
      "[372 205 197 197]\n",
      "[395 205 193 193]\n",
      "[401 205 202 202]\n",
      "[412 214 194 194]\n",
      "[410 215 197 197]\n",
      "23\n",
      "[415 216 194 194]\n",
      "[203 146  94  94]\n",
      "[412 210 205 205]\n",
      "[196 144  92  92]\n",
      "[196 143  96  96]\n",
      "[193 139 100 100]\n",
      "[199 146  94  94]\n",
      "24\n",
      "[397 209 216 216]\n",
      "[384 212 204 204]\n",
      "[367 207 211 211]\n",
      "25\n"
     ]
    }
   ],
   "source": [
    "frame = [] # to store frame at a time\n",
    "\n",
    "while True:\n",
    "    ret, frame = cam.read()\n",
    "    '''returns a boolean and frame, \n",
    "                                ret has that boolean that \n",
    "                                if frame is captured successfully'''\n",
    "    if ret == False:\n",
    "        continue\n",
    "        \n",
    "    #openCV read as BGR not RGB\n",
    "    gray_frame = cv2.cvtColor(frame,cv2.COLOR_BGR2GRAY) \n",
    "    # return x, y, weigth, heigth\n",
    "    faces = face_cascade.detectMultiScale(gray_frame) \n",
    "    \n",
    "    #pick largest face (Sorted according to area)\n",
    "    faces = sorted(faces, key = lambda f:f[2]*f[3])\n",
    "    \n",
    "    for face in faces[-1:]:\n",
    "        # [-1:] See at last\n",
    "        x , y , w ,h = face\n",
    "        print(face)\n",
    "        # draw rectangle around each face\n",
    "        cv2.rectangle(frame,(x,y),(x+w,y+h),(255,255,255),2)\n",
    "        \n",
    "        #Extract required part (Get just the face and remove every thing else)\n",
    "        face_section = frame[y-offset:y+h+offset, x-offset:x+h+offset]\n",
    "        face_section = cv2.resize(face_section,(100,100))\n",
    "        \n",
    "        if skip%5 == 0:\n",
    "            face_data.append(face_section)\n",
    "            print(len(face_data))\n",
    "        cv2.imshow(\"Frame\",frame)\n",
    "        cv2.imshow(\"Face Section\",face_section)\n",
    "    \n",
    "    skip += 1\n",
    "    \n",
    "    if (cv2.waitKey(1) & 0xFF) == ord('q') or len(face_data) == 25:\n",
    "        cam.release()\n",
    "        cv2.destroyAllWindows()\n",
    "        break"
   ]
  },
  {
   "cell_type": "code",
   "execution_count": 5,
   "metadata": {},
   "outputs": [
    {
     "name": "stdout",
     "output_type": "stream",
     "text": [
      "(25, 30000)\n",
      "Data Successfully save at ./data/mummy.npy\n"
     ]
    }
   ],
   "source": [
    "# Convert our face list array into a numpy array\n",
    "face_data = np.asarray(face_data)\n",
    "face_data = face_data.reshape((face_data.shape[0],-1))\n",
    "print(face_data.shape)\n",
    "\n",
    "# Save this data into file system\n",
    "np.save(dataset_path+file_name+'.npy',face_data)\n",
    "print(\"Data Successfully save at \"+dataset_path+file_name+'.npy')\n",
    "\n",
    "cam.release()\n",
    "cv2.destroyAllWindows()"
   ]
  },
  {
   "cell_type": "markdown",
   "metadata": {},
   "source": [
    "### a[-1:] ??? working"
   ]
  },
  {
   "cell_type": "code",
   "execution_count": 6,
   "metadata": {},
   "outputs": [],
   "source": [
    "a = [[1,2,3,4],[5,6,7,8,9]]"
   ]
  },
  {
   "cell_type": "code",
   "execution_count": 7,
   "metadata": {},
   "outputs": [
    {
     "data": {
      "text/plain": [
       "[[5, 6, 7, 8, 9]]"
      ]
     },
     "execution_count": 7,
     "metadata": {},
     "output_type": "execute_result"
    }
   ],
   "source": [
    "a[-1:]"
   ]
  },
  {
   "cell_type": "code",
   "execution_count": 8,
   "metadata": {},
   "outputs": [
    {
     "data": {
      "text/plain": [
       "[5, 6, 7, 8, 9]"
      ]
     },
     "execution_count": 8,
     "metadata": {},
     "output_type": "execute_result"
    }
   ],
   "source": [
    "a[-1]"
   ]
  },
  {
   "cell_type": "code",
   "execution_count": 10,
   "metadata": {},
   "outputs": [],
   "source": [
    "cam.release()"
   ]
  }
 ],
 "metadata": {
  "kernelspec": {
   "display_name": "Python 3",
   "language": "python",
   "name": "python3"
  },
  "language_info": {
   "codemirror_mode": {
    "name": "ipython",
    "version": 3
   },
   "file_extension": ".py",
   "mimetype": "text/x-python",
   "name": "python",
   "nbconvert_exporter": "python",
   "pygments_lexer": "ipython3",
   "version": "3.7.3"
  }
 },
 "nbformat": 4,
 "nbformat_minor": 2
}
